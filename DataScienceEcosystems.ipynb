{
 "cells": [
  {
   "cell_type": "markdown",
   "id": "216a8dbd-a997-447e-9fef-9971b07c3e50",
   "metadata": {
    "tags": []
   },
   "source": [
    "# Data Science Ecosystem"
   ]
  },
  {
   "cell_type": "markdown",
   "id": "8c1aec74-c0d5-4f96-a2e6-ced20d68bd3a",
   "metadata": {},
   "source": [
    "In this notebook, Data Science Tools and Ecosystem are summarized"
   ]
  },
  {
   "cell_type": "markdown",
   "id": "1da77014-5671-44ef-9a5a-0862440e6129",
   "metadata": {},
   "source": [
    "**Objectives:**\n",
    "- Common Languages\n",
    "- Common Libraries\n",
    "- Building Table\n",
    "- Arithmetic Expression in Python"
   ]
  },
  {
   "cell_type": "markdown",
   "id": "979b5bb6-b29c-430c-9fcf-3d6a464ae616",
   "metadata": {},
   "source": [
    "Some of the common languages used by Data Scientists include:\n",
    "1. Python\n",
    "2. MySQL\n",
    "3. R"
   ]
  },
  {
   "cell_type": "markdown",
   "id": "090d9af5-5595-44b2-9284-8110614b93c4",
   "metadata": {},
   "source": [
    "Some of the commonly used libraries used by Data Scientists include:\n",
    "1. Pandas\n",
    "2. Matplotlib\n",
    "3. Numpy"
   ]
  },
  {
   "cell_type": "markdown",
   "id": "98c87a01-d44a-4fd1-81aa-29502a576766",
   "metadata": {},
   "source": [
    "| Data Science Tools |\n",
    "|--------------------|\n",
    "| Jupyter Notebook   |\n",
    "| RStudio            |\n",
    "| Spyder             |\n"
   ]
  },
  {
   "cell_type": "markdown",
   "id": "9cff10b7-c076-4877-b215-23d00d340b35",
   "metadata": {},
   "source": [
    "### Below are a few examples of evaluating arithmetic expressions in Python"
   ]
  },
  {
   "cell_type": "code",
   "execution_count": 4,
   "id": "2c5402e0-ecf8-4294-99da-92debdc82b77",
   "metadata": {
    "tags": []
   },
   "outputs": [
    {
     "data": {
      "text/plain": [
       "17"
      ]
     },
     "execution_count": 4,
     "metadata": {},
     "output_type": "execute_result"
    }
   ],
   "source": [
    "result = (3 * 4) + 5\n",
    "result"
   ]
  },
  {
   "cell_type": "code",
   "execution_count": 5,
   "id": "4b5c13eb-15f1-478e-9dff-cc191f465af7",
   "metadata": {
    "tags": []
   },
   "outputs": [
    {
     "data": {
      "text/plain": [
       "3.3333333333333335"
      ]
     },
     "execution_count": 5,
     "metadata": {},
     "output_type": "execute_result"
    }
   ],
   "source": [
    "# This will convert 200 minutes to hours by dividing by 60.\n",
    "hours = 200 / 60\n",
    "hours\n"
   ]
  },
  {
   "cell_type": "markdown",
   "id": "39bd8109-2cb6-4f77-86ee-f77d50551014",
   "metadata": {},
   "source": [
    "## Author\n",
    "Waleed Aftab"
   ]
  },
  {
   "cell_type": "code",
   "execution_count": null,
   "id": "9cdd8b6d-7d9d-4a18-89f2-c8544971b966",
   "metadata": {},
   "outputs": [],
   "source": []
  }
 ],
 "metadata": {
  "kernelspec": {
   "display_name": "Python",
   "language": "python",
   "name": "conda-env-python-py"
  },
  "language_info": {
   "codemirror_mode": {
    "name": "ipython",
    "version": 3
   },
   "file_extension": ".py",
   "mimetype": "text/x-python",
   "name": "python",
   "nbconvert_exporter": "python",
   "pygments_lexer": "ipython3",
   "version": "3.7.12"
  }
 },
 "nbformat": 4,
 "nbformat_minor": 5
}
